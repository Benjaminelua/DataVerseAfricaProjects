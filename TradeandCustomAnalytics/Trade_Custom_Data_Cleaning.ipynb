{
 "cells": [
  {
   "cell_type": "code",
   "execution_count": 1,
   "id": "c4c63171-bde0-4cc4-94b0-1425ff814e57",
   "metadata": {},
   "outputs": [],
   "source": [
    "# Import libraries\n",
    "import pandas as pd\n",
    "import numpy as np"
   ]
  },
  {
   "cell_type": "code",
   "execution_count": 2,
   "id": "2713351a-86ad-47c8-8506-658aadc533ba",
   "metadata": {},
   "outputs": [],
   "source": [
    "# Read the dataset\n",
    "df = pd.read_excel(r\"C:\\Users\\tech\\custom-import_data.xlsx\")"
   ]
  },
  {
   "cell_type": "code",
   "execution_count": 3,
   "id": "b129606a-3283-4859-bd58-9ddb16e858db",
   "metadata": {},
   "outputs": [
    {
     "name": "stdout",
     "output_type": "stream",
     "text": [
      "<class 'pandas.core.frame.DataFrame'>\n",
      "RangeIndex: 77789 entries, 0 to 77788\n",
      "Data columns (total 16 columns):\n",
      " #   Column              Non-Null Count  Dtype \n",
      "---  ------              --------------  ----- \n",
      " 0   ID                  77789 non-null  int64 \n",
      " 1   Custom Office       77789 non-null  object\n",
      " 2   Reg Number          77789 non-null  object\n",
      " 3   Importer            77789 non-null  int64 \n",
      " 4   HS Code             77789 non-null  int64 \n",
      " 5   FOB Value (N)       77789 non-null  int64 \n",
      " 6   CIF Value (N)       77789 non-null  int64 \n",
      " 7   Total Tax(N)        77789 non-null  int64 \n",
      " 8   Receipt Number      76493 non-null  object\n",
      " 9   Receipt Date        76493 non-null  object\n",
      " 10  Mass(KG)            77789 non-null  int64 \n",
      " 11  Country  of Origin  77789 non-null  object\n",
      " 12  Country  of Supply  76826 non-null  object\n",
      " 13  Nbr Of Containers   77789 non-null  int64 \n",
      " 14  Container Nbr       45436 non-null  object\n",
      " 15  Container Size      45436 non-null  object\n",
      "dtypes: int64(8), object(8)\n",
      "memory usage: 9.5+ MB\n",
      "None\n",
      "   ID Custom Office Reg Number  Importer   HS Code  FOB Value (N)  \\\n",
      "0   0       UA PORT      C1195     29143  12900000        1046575   \n",
      "1   1       UA PORT      C1195     29143  36700000         216957   \n",
      "2   2       UA PORT      C1195     29143  39390000         172037   \n",
      "3   3       UA PORT      C1277     62056  40890000         776007   \n",
      "4   4       UA PORT      C1292     93763  37100000         234651   \n",
      "\n",
      "   CIF Value (N)  Total Tax(N) Receipt Number Receipt Date  Mass(KG)  \\\n",
      "0        1119220        137105           R599   03/07/1866       126   \n",
      "1         232002         68365           R599   03/07/1866        26   \n",
      "2         183858         54415           R599   03/07/1866        21   \n",
      "3         915286        162868           R621   03/08/1866        71   \n",
      "4         301040         37415           R614   03/08/1866        45   \n",
      "\n",
      "  Country  of Origin Country  of Supply  Nbr Of Containers Container Nbr  \\\n",
      "0            Germany                NaN                  0           NaN   \n",
      "1            Germany                NaN                  0           NaN   \n",
      "2            Germany                NaN                  0           NaN   \n",
      "3            Belgium            Belgium                  0           NaN   \n",
      "4             Turkey             Turkey                  0           NaN   \n",
      "\n",
      "  Container Size  \n",
      "0            NaN  \n",
      "1            NaN  \n",
      "2            NaN  \n",
      "3            NaN  \n",
      "4            NaN  \n"
     ]
    }
   ],
   "source": [
    "# Inpect the dataset\n",
    "print(df.info())\n",
    "print(df.head())"
   ]
  },
  {
   "cell_type": "code",
   "execution_count": 7,
   "id": "6126f3ec-22fa-431d-9a58-c0d9fd1d093f",
   "metadata": {},
   "outputs": [
    {
     "name": "stdout",
     "output_type": "stream",
     "text": [
      "Null values per column:\n",
      " ID                        0\n",
      "Custom Office             0\n",
      "Reg Number                0\n",
      "Importer                  0\n",
      "HS Code                   0\n",
      "FOB Value (N)             0\n",
      "CIF Value (N)             0\n",
      "Total Tax(N)              0\n",
      "Receipt Number         1296\n",
      "Receipt Date           1296\n",
      "Mass(KG)                  0\n",
      "Country  of Origin        0\n",
      "Country  of Supply      963\n",
      "Nbr Of Containers         0\n",
      "Container Nbr         32353\n",
      "Container Size        32353\n",
      "dtype: int64\n",
      "Total duplicate rows: 0\n"
     ]
    }
   ],
   "source": [
    "# Count null and duplicate values\n",
    "null_summary = df.isnull().sum()\n",
    "duplicate_count = df.duplicated().sum()\n",
    "print(\"Null values per column:\\n\", null_summary)\n",
    "print(\"Total duplicate rows:\", duplicate_count)"
   ]
  },
  {
   "cell_type": "code",
   "execution_count": 9,
   "id": "705a66ed-8c4d-4ac3-8ff0-4d04b2ea62a8",
   "metadata": {},
   "outputs": [
    {
     "name": "stdout",
     "output_type": "stream",
     "text": [
      "<class 'pandas.core.frame.DataFrame'>\n",
      "RangeIndex: 77789 entries, 0 to 77788\n",
      "Data columns (total 16 columns):\n",
      " #   Column             Non-Null Count  Dtype \n",
      "---  ------             --------------  ----- \n",
      " 0   id                 77789 non-null  int64 \n",
      " 1   custom_office      77789 non-null  object\n",
      " 2   reg_number         77789 non-null  object\n",
      " 3   importer           77789 non-null  int64 \n",
      " 4   hs_code            77789 non-null  int64 \n",
      " 5   fob_value(n)       77789 non-null  int64 \n",
      " 6   cif_value(n)       77789 non-null  int64 \n",
      " 7   total_tax(n)       77789 non-null  int64 \n",
      " 8   receipt_number     76493 non-null  object\n",
      " 9   receipt_date       76493 non-null  object\n",
      " 10  mass(kg)           77789 non-null  int64 \n",
      " 11  country_of_origin  77789 non-null  object\n",
      " 12  country_of_supply  76826 non-null  object\n",
      " 13  nbr_of_containers  77789 non-null  int64 \n",
      " 14  container_nbr      45436 non-null  object\n",
      " 15  container_size     45436 non-null  object\n",
      "dtypes: int64(8), object(8)\n",
      "memory usage: 9.5+ MB\n",
      "None\n"
     ]
    }
   ],
   "source": [
    "# Standardize columns\n",
    "df.columns = df.columns.str.strip().str.lower().str.replace(\" \", \"_\")\n",
    "df.rename(columns={\n",
    "    'country__of_origin': 'country_of_origin',\n",
    "    'country__of_supply': 'country_of_supply',\n",
    "    'fob_value_(n)': 'fob_value(n)',\n",
    "    'cif_value_(n)': 'cif_value(n)'\n",
    "}, inplace=True)\n",
    "\n",
    "print(df.info())"
   ]
  },
  {
   "cell_type": "code",
   "execution_count": 11,
   "id": "8b79d95c-a14a-4416-84fe-b6e348949614",
   "metadata": {},
   "outputs": [],
   "source": [
    "# Handle HS code inconsistences\n",
    "df['hs_code'] = df['hs_code'].astype(str).str.strip().str.extract(r'(\\d{2,10})')[0]\n",
    "df['hs_code'] = df['hs_code'].str[:6]"
   ]
  },
  {
   "cell_type": "code",
   "execution_count": 13,
   "id": "0fba9e4e-a704-4441-888b-aeeecb1cd145",
   "metadata": {},
   "outputs": [],
   "source": [
    "# Assign category using first two digits\n",
    "df['hs_prefix'] = df['hs_code'].str[:2]\n",
    "\n",
    "hs_category_map = {\n",
    "    '01': 'Live animals',\n",
    "    '02': 'Meat and edible meat offal',\n",
    "    '03': 'Fish and seafood',\n",
    "    '04': 'Dairy products',\n",
    "    '07': 'Vegetables',\n",
    "    '08': 'Fruits and nuts',\n",
    "    '10': 'Cereals',\n",
    "    '11': 'Milling products',\n",
    "    '12': 'Oil seeds and oleaginous fruits',\n",
    "    '13': 'Lac, gums, resins',\n",
    "    '14': 'Vegetable products n.e.s.',\n",
    "    '15': 'Animal or vegetable fats',\n",
    "    '16': 'Prepared meat and seafood',\n",
    "    '17': 'Sugars and sugar confectionery',\n",
    "    '18': 'Cocoa and preparations',\n",
    "    '19': 'Cereal preparations',\n",
    "    '20': 'Vegetable/fruit/nut preparations',\n",
    "    '21': 'Misc edible preparations',\n",
    "    '22': 'Beverages and spirits',\n",
    "    '23': 'Food industry residues',\n",
    "    '24': 'Tobacco',\n",
    "    '27': 'Mineral fuels and oils',\n",
    "    '28': 'Inorganic chemicals',\n",
    "    '29': 'Organic chemicals',\n",
    "    '30': 'Pharmaceuticals',\n",
    "    '31': 'Fertilizers',\n",
    "    '32': 'Tanning or dyeing extracts',\n",
    "    '33': 'Essential oils and cosmetics',\n",
    "    '34': 'Cleaning products',\n",
    "    '35': 'Albuminoidal substances',\n",
    "    '36': 'Explosives',\n",
    "    '37': 'Photographic goods',\n",
    "    '38': 'Misc chemical products',\n",
    "    '39': 'Plastics',\n",
    "    '40': 'Rubber',\n",
    "    '41': 'Raw hides and skins',\n",
    "    '42': 'Leather articles',\n",
    "    '43': 'Furskins',\n",
    "    '44': 'Wood and articles of wood',\n",
    "    '45': 'Cork and articles of cork',\n",
    "    '46': 'Basketware',\n",
    "    '47': 'Pulp of wood',\n",
    "    '48': 'Paper and paperboard',\n",
    "    '49': 'Printed books',\n",
    "    '61': 'Apparel (knitted)',\n",
    "    '62': 'Apparel (non-knitted)',\n",
    "    '63': 'Other textile articles',\n",
    "    '64': 'Footwear',\n",
    "    '65': 'Headgear',\n",
    "    '66': 'Umbrellas and walking-sticks',\n",
    "    '67': 'Feathers and artificial flowers',\n",
    "    '68': 'Stone and cement',\n",
    "    '69': 'Ceramic products',\n",
    "    '70': 'Glass and glassware',\n",
    "    '71': 'Precious stones',\n",
    "    '72': 'Iron and steel',\n",
    "    '73': 'Articles of iron or steel',\n",
    "    '74': 'Copper and articles thereof',\n",
    "    '75': 'Nickel',\n",
    "    '76': 'Aluminum',\n",
    "    '78': 'Lead',\n",
    "    '79': 'Zinc',\n",
    "    '80': 'Tin',\n",
    "    '81': 'Other base metals',\n",
    "    '82': 'Tools and cutlery',\n",
    "    '83': 'Misc metal articles',\n",
    "    '84': 'Machinery',\n",
    "    '85': 'Electrical machinery',\n",
    "    '86': 'Railway equipment',\n",
    "    '87': 'Vehicles',\n",
    "    '88': 'Aircraft',\n",
    "    '89': 'Ships and boats',\n",
    "    '90': 'Optical instruments',\n",
    "    '91': 'Clocks and watches',\n",
    "    '92': 'Musical instruments',\n",
    "    '93': 'Arms and ammunition',\n",
    "    '94': 'Furniture',\n",
    "    '95': 'Toys and games',\n",
    "    '96': 'Misc manufactured articles',\n",
    "    '97': 'Works of art',\n",
    "    '99': 'Special classifications'\n",
    "}\n",
    "df['hs_category'] = df['hs_prefix'].map(hs_category_map).fillna('Other')"
   ]
  },
  {
   "cell_type": "code",
   "execution_count": 15,
   "id": "4560770d-b636-4ed7-83bc-761aca4cc21a",
   "metadata": {},
   "outputs": [
    {
     "name": "stdout",
     "output_type": "stream",
     "text": [
      "['Oil seeds and oleaginous fruits' 'Explosives' 'Plastics' 'Rubber'\n",
      " 'Photographic goods' 'Wood and articles of wood' 'Fertilizers'\n",
      " 'Raw hides and skins' 'Sugars and sugar confectionery' 'Stone and cement'\n",
      " 'Printed books' 'Headgear' 'Inorganic chemicals' 'Lead'\n",
      " 'Organic chemicals' 'Animal or vegetable fats' 'Mineral fuels and oils'\n",
      " 'Cocoa and preparations' 'Furskins' 'Articles of iron or steel' 'Other'\n",
      " 'Milling products' 'Iron and steel' 'Leather articles'\n",
      " 'Lac, gums, resins' 'Footwear' 'Prepared meat and seafood'\n",
      " 'Albuminoidal substances' 'Misc chemical products' 'Pulp of wood'\n",
      " 'Pharmaceuticals' 'Zinc' 'Misc edible preparations'\n",
      " 'Essential oils and cosmetics' 'Basketware' 'Paper and paperboard'\n",
      " 'Tobacco' 'Aluminum' 'Food industry residues' 'Cereal preparations'\n",
      " 'Precious stones' 'Vegetable products n.e.s.' 'Beverages and spirits'\n",
      " 'Furniture' 'Apparel (knitted)' 'Tanning or dyeing extracts'\n",
      " 'Cork and articles of cork' 'Cleaning products' 'Cereals'\n",
      " 'Railway equipment' 'Other base metals' 'Copper and articles thereof'\n",
      " 'Vehicles' 'Special classifications' 'Ceramic products'\n",
      " 'Other textile articles' 'Umbrellas and walking-sticks' 'Nickel']\n"
     ]
    }
   ],
   "source": [
    "print(df['hs_category'].unique())"
   ]
  },
  {
   "cell_type": "code",
   "execution_count": 17,
   "id": "0bb57a57-9bf4-49dd-9155-c1d9369b115a",
   "metadata": {},
   "outputs": [
    {
     "name": "stdout",
     "output_type": "stream",
     "text": [
      "receipt_date\n",
      "19/01/1866    520\n",
      "28/06/1866    513\n",
      "18/07/1866    511\n",
      "21/07/1866    509\n",
      "28/10/1866    481\n",
      "             ... \n",
      "13/02/1868      1\n",
      "28/03/1867      1\n",
      "08/01/1868      1\n",
      "26/09/1867      1\n",
      "04/12/1867      1\n",
      "Name: count, Length: 384, dtype: int64\n"
     ]
    }
   ],
   "source": [
    "print(df['receipt_date'].value_counts())"
   ]
  },
  {
   "cell_type": "code",
   "execution_count": 19,
   "id": "75ddabbe-0c57-4c03-993e-64cbc46b8d79",
   "metadata": {},
   "outputs": [
    {
     "name": "stdout",
     "output_type": "stream",
     "text": [
      "[2022.   nan 2023. 2024. 2025.]\n"
     ]
    }
   ],
   "source": [
    "# Fix the receipt_date year to 2024 and 2025\n",
    "df['receipt_date'] = pd.to_datetime(df['receipt_date'], errors='coerce')\n",
    "df['receipt_date'] = df['receipt_date'].apply(\n",
    "    lambda d: d.replace(year={1866: 2022, 1867: 2023, 1868: 2024, 1869: 2025}.get(d.year, d.year)) if pd.notnull(d) else d\n",
    ")\n",
    "print(df['receipt_date'].dt.year.unique())"
   ]
  },
  {
   "cell_type": "code",
   "execution_count": 21,
   "id": "af574305-7dc0-4357-9c7d-333afe88b076",
   "metadata": {},
   "outputs": [],
   "source": [
    "# Convert numeric columns\n",
    "num_cols = ['fob_value(n)', 'cif_value(n)', 'total_tax(n)', 'mass(kg)', 'nbr_of_containers']\n",
    "for col in num_cols:\n",
    "    df[col] = pd.to_numeric(df[col], errors='coerce')"
   ]
  },
  {
   "cell_type": "code",
   "execution_count": 23,
   "id": "71c54e68-7f09-4dd7-9dee-daf4848b88d8",
   "metadata": {},
   "outputs": [],
   "source": [
    "# Normalize text columns\n",
    "text_cols = ['custom_office', 'importer', 'country_of_origin', 'country_of_supply', 'container_nbr', 'container_size']\n",
    "for col in text_cols:\n",
    "    df[col] = df[col].astype(str).str.strip().str.lower().replace('nan', np.nan)"
   ]
  },
  {
   "cell_type": "code",
   "execution_count": 25,
   "id": "02a4fe4b-b5f6-45e6-91b0-3f12eb43832a",
   "metadata": {},
   "outputs": [
    {
     "name": "stdout",
     "output_type": "stream",
     "text": [
      "<class 'pandas.core.frame.DataFrame'>\n",
      "RangeIndex: 77789 entries, 0 to 77788\n",
      "Data columns (total 18 columns):\n",
      " #   Column             Non-Null Count  Dtype         \n",
      "---  ------             --------------  -----         \n",
      " 0   id                 77789 non-null  int64         \n",
      " 1   custom_office      77789 non-null  object        \n",
      " 2   reg_number         77789 non-null  object        \n",
      " 3   importer           77789 non-null  object        \n",
      " 4   hs_code            77789 non-null  object        \n",
      " 5   fob_value(n)       77789 non-null  int64         \n",
      " 6   cif_value(n)       77789 non-null  int64         \n",
      " 7   total_tax(n)       77789 non-null  int64         \n",
      " 8   receipt_number     76493 non-null  object        \n",
      " 9   receipt_date       29102 non-null  datetime64[ns]\n",
      " 10  mass(kg)           77789 non-null  int64         \n",
      " 11  country_of_origin  77789 non-null  object        \n",
      " 12  country_of_supply  76826 non-null  object        \n",
      " 13  nbr_of_containers  77789 non-null  int64         \n",
      " 14  container_nbr      45436 non-null  object        \n",
      " 15  container_size     45436 non-null  object        \n",
      " 16  hs_prefix          77789 non-null  object        \n",
      " 17  hs_category        77789 non-null  object        \n",
      "dtypes: datetime64[ns](1), int64(6), object(11)\n",
      "memory usage: 10.7+ MB\n",
      "None\n"
     ]
    }
   ],
   "source": [
    "print(df.info())"
   ]
  },
  {
   "cell_type": "code",
   "execution_count": 27,
   "id": "d39777c7-eb27-4a18-ab9f-746da2c1865e",
   "metadata": {},
   "outputs": [
    {
     "name": "stdout",
     "output_type": "stream",
     "text": [
      "country_of_origin\n",
      "china                       0.349947\n",
      "united states               0.107856\n",
      "germany                     0.068943\n",
      "united kingdom              0.068840\n",
      "netherlands                 0.056332\n",
      "belgium                     0.038322\n",
      "hong kong                   0.037987\n",
      "india                       0.033128\n",
      "united arab emirates        0.032395\n",
      "italy                       0.029914\n",
      "republic of south africa    0.022767\n",
      "france                      0.022651\n",
      "sweden                      0.016172\n",
      "spain                       0.014436\n",
      "korea, republic of          0.010696\n",
      "lebanon                     0.008652\n",
      "japan                       0.008112\n",
      "turkey                      0.007019\n",
      "malaysia                    0.005862\n",
      "singapore                   0.005618\n",
      "Name: proportion, dtype: float64\n",
      "country_of_supply\n",
      "china                       0.331086\n",
      "united states               0.103337\n",
      "united kingdom              0.069065\n",
      "netherlands                 0.068714\n",
      "germany                     0.068701\n",
      "belgium                     0.039843\n",
      "hong kong                   0.039218\n",
      "united arab emirates        0.037696\n",
      "india                       0.032671\n",
      "italy                       0.031200\n",
      "republic of south africa    0.024276\n",
      "france                      0.022245\n",
      "sweden                      0.016518\n",
      "spain                       0.015685\n",
      "korea, republic of          0.009606\n",
      "lebanon                     0.008187\n",
      "japan                       0.007589\n",
      "turkey                      0.007081\n",
      "singapore                   0.006001\n",
      "malaysia                    0.004569\n",
      "Name: proportion, dtype: float64\n"
     ]
    }
   ],
   "source": [
    "# Check the value count percentage of country of origin and country of supply\n",
    "origin_counts = df['country_of_origin'].value_counts(normalize=True)\n",
    "supply_counts = df['country_of_supply'].value_counts(normalize=True)\n",
    "print(origin_counts.head(20))\n",
    "print(supply_counts.head(20))"
   ]
  },
  {
   "cell_type": "code",
   "execution_count": 29,
   "id": "27319b76-4367-4087-bc22-672896ac079e",
   "metadata": {},
   "outputs": [],
   "source": [
    "# Form a comaprison dataframe, find the correlation and fill the missing values\n",
    "comparison_df = pd.concat([origin_counts, supply_counts], axis=1, keys=['origin_pct', 'supply_pct'])\n",
    "if comparison_df.corr().iloc[0, 1] > 0.9:\n",
    "    # Row-wise fill\n",
    "    df['country_of_origin'] = df['country_of_origin'].fillna(df['country_of_supply'])\n",
    "    df['country_of_supply'] = df['country_of_supply'].fillna(df['country_of_origin'])\n"
   ]
  },
  {
   "cell_type": "code",
   "execution_count": 31,
   "id": "c7d04ec2-6e13-4562-a3f7-8b524b299a13",
   "metadata": {},
   "outputs": [
    {
     "data": {
      "text/html": [
       "<div>\n",
       "<style scoped>\n",
       "    .dataframe tbody tr th:only-of-type {\n",
       "        vertical-align: middle;\n",
       "    }\n",
       "\n",
       "    .dataframe tbody tr th {\n",
       "        vertical-align: top;\n",
       "    }\n",
       "\n",
       "    .dataframe thead th {\n",
       "        text-align: right;\n",
       "    }\n",
       "</style>\n",
       "<table border=\"1\" class=\"dataframe\">\n",
       "  <thead>\n",
       "    <tr style=\"text-align: right;\">\n",
       "      <th></th>\n",
       "      <th>origin_pct</th>\n",
       "      <th>supply_pct</th>\n",
       "    </tr>\n",
       "  </thead>\n",
       "  <tbody>\n",
       "    <tr>\n",
       "      <th>origin_pct</th>\n",
       "      <td>1.000000</td>\n",
       "      <td>0.998777</td>\n",
       "    </tr>\n",
       "    <tr>\n",
       "      <th>supply_pct</th>\n",
       "      <td>0.998777</td>\n",
       "      <td>1.000000</td>\n",
       "    </tr>\n",
       "  </tbody>\n",
       "</table>\n",
       "</div>"
      ],
      "text/plain": [
       "            origin_pct  supply_pct\n",
       "origin_pct    1.000000    0.998777\n",
       "supply_pct    0.998777    1.000000"
      ]
     },
     "execution_count": 31,
     "metadata": {},
     "output_type": "execute_result"
    }
   ],
   "source": [
    "comparison_df.corr()"
   ]
  },
  {
   "cell_type": "code",
   "execution_count": 33,
   "id": "bf65a5bb-a99d-4160-8177-597490650fd4",
   "metadata": {},
   "outputs": [],
   "source": [
    "# Fill the missing values in container number and conatiner size\n",
    "df['container_nbr'] = df['container_nbr'].fillna('unknown')\n",
    "df['container_size'] = df['container_size'].fillna('unknown')"
   ]
  },
  {
   "cell_type": "code",
   "execution_count": 35,
   "id": "1ef5da37-2fb1-4ff4-9f8c-7b539899b66e",
   "metadata": {},
   "outputs": [],
   "source": [
    "# Standardize container size values\n",
    "container_size_map = {\n",
    "    '20gp': '20ft', '20dv': '20ft', '20dc': '20ft', '20ot': '20ft', '20vh': '20ft', '20pl': '20ft',\n",
    "    '20sn': '20ft', '20fl': '20ft', '20ut': '20ft', '20hd': '20ft', '20ve': '20ft', '20hc': '20ft',\n",
    "    '22g1': '20ft', '22g0': '20ft', '22u1': '20ft', '22p3': '20ft', '22p1': '20ft', '22r1': '20ft',\n",
    "    '25g1': '20ft', '2040': '20ft', '2200': '20ft',\n",
    "\n",
    "    '40gp': '40ft', '40dv': '40ft', '40hc': '40ft', '40ot': '40ft', '40fl': '40ft', '40bk': '40ft',\n",
    "    '40pl': '40ft', '40vh': '40ft', '40ut': '40ft', '40ps': '40ft', '40hd': '40ft', '40dc': '40ft',\n",
    "    '42g1': '40ft', '42u0': '40ft', '42u1': '40ft', '42g0': '40ft', '42p0': '40ft', '42p3': '40ft',\n",
    "    '42p1': '40ft', '42u5': '40ft', '4300': '40ft',\n",
    "\n",
    "    '45g0': '45ft', '45g1': '45ft', '45u1': '45ft', '45p3': '45ft', '45gp': '45ft', '45r1': '45ft',\n",
    "    '44g1': '45ft', '49p0': '45ft',\n",
    "\n",
    "    '60mf': '60ft', '10dv': '10ft', '0': 'unknown', 'ncvh': 'unknown', 'hncv': 'unknown', 'l5g1': 'unknown'\n",
    "}\n",
    "df['container_size'] = df['container_size'].map(container_size_map).fillna('unknown')"
   ]
  },
  {
   "cell_type": "code",
   "execution_count": 37,
   "id": "2345a810-4982-4cc9-8add-044259eee478",
   "metadata": {},
   "outputs": [
    {
     "name": "stdout",
     "output_type": "stream",
     "text": [
      "Null values per column:\n",
      " id                       0\n",
      "custom_office            0\n",
      "reg_number               0\n",
      "importer                 0\n",
      "hs_code                  0\n",
      "fob_value(n)             0\n",
      "cif_value(n)             0\n",
      "total_tax(n)             0\n",
      "receipt_number        1296\n",
      "receipt_date         48687\n",
      "mass(kg)                 0\n",
      "country_of_origin        0\n",
      "country_of_supply        0\n",
      "nbr_of_containers        0\n",
      "container_nbr            0\n",
      "container_size           0\n",
      "hs_prefix                0\n",
      "hs_category              0\n",
      "dtype: int64\n",
      "Total duplicate rows: 0\n"
     ]
    }
   ],
   "source": [
    "# Count null and duplicate values\n",
    "null_summary = df.isnull().sum()\n",
    "duplicate_count = df.duplicated().sum()\n",
    "print(\"Null values per column:\\n\", null_summary)\n",
    "print(\"Total duplicate rows:\", duplicate_count)"
   ]
  },
  {
   "cell_type": "code",
   "execution_count": 39,
   "id": "c38a0f2f-66aa-4236-a4ee-19bcb720a208",
   "metadata": {},
   "outputs": [],
   "source": [
    "# Remove invalid or negative values\n",
    "for col in ['fob_value(n)', 'cif_value(n)', 'total_tax(n)', 'mass(kg)']:\n",
    "    df = df[df[col] >= 0]"
   ]
  },
  {
   "cell_type": "code",
   "execution_count": 41,
   "id": "d7d566bf-ca5d-476d-b54d-d124cbb17432",
   "metadata": {},
   "outputs": [],
   "source": [
    "# Fill missing receipt_date with mode\n",
    "receipt_mode = df['receipt_date'].mode()[0]\n",
    "df['receipt_date'] = df['receipt_date'].fillna(receipt_mode)"
   ]
  },
  {
   "cell_type": "code",
   "execution_count": 43,
   "id": "203fca8a-16ff-4eda-b6e1-6770e86b3aa5",
   "metadata": {},
   "outputs": [],
   "source": [
    "# Drop missing receipt_number values\n",
    "df = df[df['receipt_number'].notna()]"
   ]
  },
  {
   "cell_type": "code",
   "execution_count": 45,
   "id": "cfdcc6fe-7ef4-41f1-82e6-e007d86a4b41",
   "metadata": {},
   "outputs": [
    {
     "name": "stdout",
     "output_type": "stream",
     "text": [
      "The top 10 countries by values: \n",
      " country_of_origin\n",
      "china                       667423362775\n",
      "lebanon                     114343994910\n",
      "italy                       110300513789\n",
      "india                       104520195135\n",
      "united kingdom               92498330110\n",
      "korea, republic of           78740311239\n",
      "united states                74733363981\n",
      "sweden                       68901520503\n",
      "republic of south africa     61894973861\n",
      "hong kong                    39777956468\n",
      "Name: fob_value(n), dtype: int64\n",
      "importer\n",
      "7013     77025030\n",
      "11327    75610492\n",
      "30571    68418605\n",
      "61090    60939646\n",
      "69009    36299428\n",
      "96059    30278549\n",
      "35437    29428192\n",
      "37193    28928351\n",
      "62948    25975092\n",
      "28895    22505722\n",
      "Name: mass(kg), dtype: int64\n",
      "17391.139267645405\n"
     ]
    }
   ],
   "source": [
    "# Import Volume and Value KPIs\n",
    "total_fob = df['fob_value(n)'].sum()\n",
    "total_cif = df['cif_value(n)'].sum()\n",
    "avg_import_value = df['fob_value(n)'].mean()\n",
    "top_countries_by_value = df.groupby('country_of_origin')['fob_value(n)'].sum().sort_values(ascending=False).head(10)\n",
    "top_importers_by_mass = df.groupby('importer')['mass(kg)'].sum().sort_values(ascending=False).head(10)\n",
    "avg_mass_per_txn = df['mass(kg)'].mean()\n",
    "print('The top 10 countries by values: \\n', top_countries_by_value)\n",
    "print(top_importers_by_mass)\n",
    "print(avg_mass_per_txn)"
   ]
  },
  {
   "cell_type": "code",
   "execution_count": 47,
   "id": "ac249afe-da8d-40fd-a5a4-3f5042d9acbe",
   "metadata": {},
   "outputs": [
    {
     "name": "stdout",
     "output_type": "stream",
     "text": [
      "0.14768256064669102\n",
      "importer\n",
      "69009    29522113044\n",
      "37193    24644875768\n",
      "11327    16126674225\n",
      "96059    16052822615\n",
      "94060    11128119401\n",
      "44077     8551489748\n",
      "35437     7561276465\n",
      "67324     7189087220\n",
      "28895     7020546613\n",
      "45690     4681998721\n",
      "Name: total_tax(n), dtype: int64\n"
     ]
    }
   ],
   "source": [
    "# Taxation and Revenue KPIs\n",
    "total_tax = df['total_tax(n)'].sum()\n",
    "avg_tax = df['total_tax(n)'].mean()\n",
    "tax_to_value_ratio = total_tax / total_fob if total_fob != 0 else np.nan\n",
    "top_tax_contributors = df.groupby('importer')['total_tax(n)'].sum().sort_values(ascending=False).head(10)\n",
    "print(tax_to_value_ratio)\n",
    "print(top_tax_contributors)"
   ]
  },
  {
   "cell_type": "code",
   "execution_count": 49,
   "id": "41e401a0-f5aa-4dc5-9609-ca471e9cb87c",
   "metadata": {},
   "outputs": [],
   "source": [
    "# Logistics and Shipment KPIs \n",
    "total_shipments = df.shape[0]\n",
    "avg_containers_per_importer = df.groupby('importer')['nbr_of_containers'].mean().sort_values(ascending=False)\n",
    "most_common_container_size = df['container_size'].mode()[0]\n",
    "import_weight_by_country = df.groupby('country_of_origin')['mass(kg)'].sum().sort_values(ascending=False).head(10)"
   ]
  },
  {
   "cell_type": "code",
   "execution_count": 51,
   "id": "72d2dda3-aab8-4111-9666-3444177fb11c",
   "metadata": {},
   "outputs": [],
   "source": [
    "# Compliance and Processing KPIs \n",
    "transactions_per_custom = df['custom_office'].value_counts()\n",
    "most_frequent_hs_codes = df['hs_code'].value_counts().head(10)"
   ]
  },
  {
   "cell_type": "code",
   "execution_count": 53,
   "id": "9c9ae7e6-8a87-4c99-8e04-a82350dbfec9",
   "metadata": {},
   "outputs": [],
   "source": [
    "# Define a high-risk country list manually\n",
    "high_risk_countries = ['iran', 'north korea', 'syria', 'sudan']\n",
    "high_risk_pct = df[df['country_of_origin'].isin(high_risk_countries)].shape[0] / df.shape[0] * 100"
   ]
  },
  {
   "cell_type": "code",
   "execution_count": 55,
   "id": "b49bf95a-d25a-4f6f-b518-0eb0a1650532",
   "metadata": {},
   "outputs": [],
   "source": [
    "# Create receipt year column\n",
    "df['receipt_year'] = df['receipt_date'].dt.year"
   ]
  },
  {
   "cell_type": "code",
   "execution_count": 57,
   "id": "4982eb8f-918c-404f-b985-086eebd0a5f7",
   "metadata": {},
   "outputs": [
    {
     "name": "stdout",
     "output_type": "stream",
     "text": [
      "['March' 'January' 'April' 'May' 'June' 'July' 'August' 'February'\n",
      " 'September' 'October' 'November' 'December']\n"
     ]
    }
   ],
   "source": [
    "# Extract receipt month name\n",
    "df['receipt_month'] = df['receipt_date'].dt.month_name()\n",
    "print(df['receipt_month'].unique())"
   ]
  },
  {
   "cell_type": "code",
   "execution_count": 59,
   "id": "a261aa8d-7c58-48dd-ab4c-93216f03efc3",
   "metadata": {},
   "outputs": [
    {
     "name": "stdout",
     "output_type": "stream",
     "text": [
      "<class 'pandas.core.frame.DataFrame'>\n",
      "Index: 76493 entries, 0 to 77783\n",
      "Data columns (total 20 columns):\n",
      " #   Column             Non-Null Count  Dtype         \n",
      "---  ------             --------------  -----         \n",
      " 0   id                 76493 non-null  int64         \n",
      " 1   custom_office      76493 non-null  object        \n",
      " 2   reg_number         76493 non-null  object        \n",
      " 3   importer           76493 non-null  object        \n",
      " 4   hs_code            76493 non-null  object        \n",
      " 5   fob_value(n)       76493 non-null  int64         \n",
      " 6   cif_value(n)       76493 non-null  int64         \n",
      " 7   total_tax(n)       76493 non-null  int64         \n",
      " 8   receipt_number     76493 non-null  object        \n",
      " 9   receipt_date       76493 non-null  datetime64[ns]\n",
      " 10  mass(kg)           76493 non-null  int64         \n",
      " 11  country_of_origin  76493 non-null  object        \n",
      " 12  country_of_supply  76493 non-null  object        \n",
      " 13  nbr_of_containers  76493 non-null  int64         \n",
      " 14  container_nbr      76493 non-null  object        \n",
      " 15  container_size     76493 non-null  object        \n",
      " 16  hs_prefix          76493 non-null  object        \n",
      " 17  hs_category        76493 non-null  object        \n",
      " 18  receipt_year       76493 non-null  int32         \n",
      " 19  receipt_month      76493 non-null  object        \n",
      "dtypes: datetime64[ns](1), int32(1), int64(6), object(12)\n",
      "memory usage: 12.0+ MB\n",
      "None\n"
     ]
    }
   ],
   "source": [
    "print(df.info())"
   ]
  },
  {
   "cell_type": "code",
   "execution_count": 61,
   "id": "3a56624c-7115-46b7-9ed7-c33684efcb4e",
   "metadata": {},
   "outputs": [
    {
     "name": "stdout",
     "output_type": "stream",
     "text": [
      "Cleaned data saved to 'trade_customs_data_cleaned.csv'\n"
     ]
    }
   ],
   "source": [
    "# Save cleaned dataset\n",
    "df.to_csv('trade_customs_data_cleaned.csv', index=False)\n",
    "print(\"Cleaned data saved to 'trade_customs_data_cleaned.csv'\")"
   ]
  },
  {
   "cell_type": "code",
   "execution_count": 97,
   "id": "03135e3c-ceee-44e9-bccb-e1c93328be1a",
   "metadata": {},
   "outputs": [
    {
     "data": {
      "text/plain": [
       "container_size\n",
       "unknown    36233\n",
       "40ft       18877\n",
       "45ft       11964\n",
       "20ft        9414\n",
       "60ft           4\n",
       "10ft           1\n",
       "Name: count, dtype: int64"
      ]
     },
     "execution_count": 97,
     "metadata": {},
     "output_type": "execute_result"
    }
   ],
   "source": [
    "df['container_size'].value_counts()"
   ]
  },
  {
   "cell_type": "code",
   "execution_count": 75,
   "id": "16ed3b3c-c6b8-4584-9cab-ab113389e212",
   "metadata": {},
   "outputs": [],
   "source": [
    "import matplotlib.pyplot as plt\n",
    "import seaborn as sns"
   ]
  },
  {
   "cell_type": "code",
   "execution_count": 95,
   "id": "af2d4fe8-7fb9-4b5f-8d35-de9c731b2b7c",
   "metadata": {},
   "outputs": [
    {
     "name": "stdout",
     "output_type": "stream",
     "text": [
      "44.5182957917718\n"
     ]
    }
   ],
   "source": [
    "print(df['nbr_of_containers'].sum()/ (df.shape[0]))"
   ]
  },
  {
   "cell_type": "code",
   "execution_count": 101,
   "id": "f5b2d2a1-b463-43b9-a4fe-6aa1b9433363",
   "metadata": {},
   "outputs": [
    {
     "name": "stdout",
     "output_type": "stream",
     "text": [
      "1330300416\n"
     ]
    }
   ],
   "source": [
    "print(df['mass(kg)'].sum())"
   ]
  },
  {
   "cell_type": "code",
   "execution_count": 93,
   "id": "b9070e87-6753-492c-9df5-02c3e380f051",
   "metadata": {},
   "outputs": [
    {
     "name": "stdout",
     "output_type": "stream",
     "text": [
      "Tax-to-CIF ratio for Raw hides and skins: 0.0198\n"
     ]
    }
   ],
   "source": [
    "# Filter for Raw hides and skins category\n",
    "raw_hides_df = df[df['hs_category'] == 'Raw hides and skins']\n",
    "\n",
    "# Ensure no division by zero\n",
    "total_tax_raw = raw_hides_df['total_tax(n)'].sum()\n",
    "total_cif_raw = raw_hides_df['cif_value(n)'].sum()\n",
    "\n",
    "# Compute ratio\n",
    "tax_to_cif_ratio_raw = total_tax_raw / total_cif_raw if total_cif_raw != 0 else np.nan\n",
    "\n",
    "print(f\"Tax-to-CIF ratio for Raw hides and skins: {tax_to_cif_ratio_raw:.4f}\")\n"
   ]
  },
  {
   "cell_type": "code",
   "execution_count": null,
   "id": "41377852-954f-4c82-8975-32a0765fef0a",
   "metadata": {},
   "outputs": [],
   "source": []
  }
 ],
 "metadata": {
  "kernelspec": {
   "display_name": "Python 3 (ipykernel)",
   "language": "python",
   "name": "python3"
  },
  "language_info": {
   "codemirror_mode": {
    "name": "ipython",
    "version": 3
   },
   "file_extension": ".py",
   "mimetype": "text/x-python",
   "name": "python",
   "nbconvert_exporter": "python",
   "pygments_lexer": "ipython3",
   "version": "3.12.4"
  }
 },
 "nbformat": 4,
 "nbformat_minor": 5
}
